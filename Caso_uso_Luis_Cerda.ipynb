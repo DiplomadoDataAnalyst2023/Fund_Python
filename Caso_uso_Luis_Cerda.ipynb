{
 "cells": [
  {
   "cell_type": "markdown",
   "metadata": {},
   "source": [
    "# Nombre: Luis Guillermo Cerda Sepúlveda\n",
    "\n",
    "## Caso de uso:\n",
    "### En mi caso , como SRE debo administrar multiples clusters Kubernetes que prestan servicios en multiples ambientes y en algunas ocasiones producto de problemas con el registry desde donde se descargan la imágenes, la caída de un worker o no haber drenado un nodo correctamente, algunos pods pueden quedar en un estado fallido lo que genera problemas con los servios que se alojan en el cluster.\n",
    "\n",
    "Con el script siguiente es posible realizar la limpieza de estos pods, ya sea de manera masiva en un namespace o uno a uno permitiendo eliminar solo aquellos que nos interesen.\n",
    "\n",
    "Para esto se ha importado la librería de python llamada <font color='green'>subprocess</font>, la cual permite ejecutar comandos a nivel de consola, permitiendo registrar la salida de la ejecución y trabajar con esta información.\n",
    "\n",
    "* Es necesario que el programa <font color='green'>kubectl </font> se encuentre instalado y configurado para trabajar.\n",
    "\n"
   ]
  },
  {
   "cell_type": "code",
   "execution_count": 20,
   "metadata": {},
   "outputs": [],
   "source": [
    "import subprocess\n",
    "\n",
    "# User must type the namespace to check for dead pods\n",
    "namespace = input(\"Input namespace to check for dead pods\")\n",
    "\n",
    "# Function to get the dead pods\n",
    "def list_non_running_pods(namespace):\n",
    "   \n",
    "    # Define the kubectl command to list pods in the specified namespace\n",
    "    list_pods_command = f\"kubectl get pods -n {namespace} --no-headers\"\n",
    "\n",
    "    try:\n",
    "        # Execute the kubectl command and capture the output\n",
    "        pod_list_output = subprocess.check_output(list_pods_command, shell=True, text=True)\n",
    "\n",
    "        # Initialize a list to store pod names to delete\n",
    "        pods_to_delete = []\n",
    "\n",
    "        # Split the output into lines and iterate over the pods\n",
    "        for line in pod_list_output.strip().split('\\n'):\n",
    "            columns = line.split()\n",
    "            pod_name = columns[0]\n",
    "            pod_status = columns[2]\n",
    "\n",
    "            # Check if the pod is not in a \"Running\" state\n",
    "            if pod_status != \"Running\":\n",
    "                pods_to_delete.append(pod_name)\n",
    "\n",
    "                # Display pod information\n",
    "                print(f\"Pod Name: {pod_name}, Status: {pod_status}\")\n",
    "\n",
    "        return pods_to_delete\n",
    "    # If kubectl binary is not available this line catch de exception\n",
    "    except subprocess.CalledProcessError as e:\n",
    "        print(f\"Error executing kubectl command: {e}\")\n",
    "        return []\n",
    "\n",
    "# Function to delete the dead pods\n",
    "def delete_pods(namespace, pods_to_delete):\n",
    "    if not pods_to_delete:\n",
    "        print(\"No pods to delete.\")\n",
    "        return\n",
    "\n",
    "    # Ask for confirmation to delete all pods at once\n",
    "    confirmation = input(\"Do you want to delete all non-running pods at once (y/n)? \").strip().lower()\n",
    "    \n",
    "    if confirmation == \"y\":\n",
    "        try:\n",
    "            # Delete all non-running pods using kubectl delete\n",
    "            delete_command = f\"kubectl delete pods -n {namespace} {' '.join(pods_to_delete)}\"\n",
    "            subprocess.run(delete_command, shell=True)\n",
    "\n",
    "            print(f\"Deleted {len(pods_to_delete)} pods in namespace {namespace}\")\n",
    "        except subprocess.CalledProcessError as e:\n",
    "            print(f\"Error executing kubectl delete command: {e}\")\n",
    "    else:\n",
    "        # Ask for confirmation to delete each pod individually\n",
    "        for pod_name in pods_to_delete:\n",
    "            confirmation = input(f\"Do you want to delete pod {pod_name} (y/n)? \").strip().lower()\n",
    "            if confirmation == \"y\":\n",
    "                try:\n",
    "                    # Delete the non-running pod using kubectl delete\n",
    "                    delete_command = f\"kubectl delete pod {pod_name} -n {namespace}\"\n",
    "                    subprocess.run(delete_command, shell=True)\n",
    "\n",
    "                    print(f\"Deleted pod {pod_name} in namespace {namespace}\")\n",
    "                except subprocess.CalledProcessError as e:\n",
    "                    print(f\"Error executing kubectl delete command: {e}\")\n",
    "            else:\n",
    "                print(f\"Skipped deletion of pod {pod_name}\")\n",
    "\n",
    "# pods_to_delete = list_non_running_pods(namespace)    # Line commented only for refresh failed pod list example\n",
    "\n"
   ]
  },
  {
   "cell_type": "markdown",
   "metadata": {},
   "source": [
    "Ejecución del script eliminando todos los pods que presentan un estado fallido de una sola vez"
   ]
  },
  {
   "cell_type": "code",
   "execution_count": 21,
   "metadata": {},
   "outputs": [
    {
     "name": "stdout",
     "output_type": "stream",
     "text": [
      "Pod Name: nginx-deployment-7c6cbf4cd4-62zrx, Status: ImagePullBackOff\n",
      "Pod Name: nginx-deployment-7c6cbf4cd4-d6tf4, Status: ErrImagePull\n",
      "Pod Name: nginx-deployment-7c6cbf4cd4-qcfv9, Status: ImagePullBackOff\n",
      "pod \"nginx-deployment-7c6cbf4cd4-62zrx\" deleted\n",
      "pod \"nginx-deployment-7c6cbf4cd4-d6tf4\" deleted\n",
      "pod \"nginx-deployment-7c6cbf4cd4-qcfv9\" deleted\n",
      "Deleted 3 pods in namespace default\n"
     ]
    }
   ],
   "source": [
    "pods_to_delete = list_non_running_pods(namespace)\n",
    "delete_pods(namespace, pods_to_delete)"
   ]
  },
  {
   "cell_type": "markdown",
   "metadata": {},
   "source": [
    "Ejecución del script eliminando  los pods que presentan un estado fallido selectivamente"
   ]
  },
  {
   "cell_type": "code",
   "execution_count": 22,
   "metadata": {},
   "outputs": [
    {
     "name": "stdout",
     "output_type": "stream",
     "text": [
      "Pod Name: nginx-deployment-7c6cbf4cd4-4b8qs, Status: ErrImagePull\n",
      "Pod Name: nginx-deployment-7c6cbf4cd4-s8s9d, Status: ErrImagePull\n",
      "Pod Name: nginx-deployment-7c6cbf4cd4-w55zq, Status: ErrImagePull\n",
      "pod \"nginx-deployment-7c6cbf4cd4-4b8qs\" deleted\n",
      "Deleted pod nginx-deployment-7c6cbf4cd4-4b8qs in namespace default\n",
      "pod \"nginx-deployment-7c6cbf4cd4-s8s9d\" deleted\n",
      "Deleted pod nginx-deployment-7c6cbf4cd4-s8s9d in namespace default\n",
      "Skipped deletion of pod nginx-deployment-7c6cbf4cd4-w55zq\n"
     ]
    }
   ],
   "source": [
    "pods_to_delete = list_non_running_pods(namespace)\n",
    "delete_pods(namespace, pods_to_delete)"
   ]
  }
 ],
 "metadata": {
  "kernelspec": {
   "display_name": "Python 3",
   "language": "python",
   "name": "python3"
  },
  "language_info": {
   "codemirror_mode": {
    "name": "ipython",
    "version": 3
   },
   "file_extension": ".py",
   "mimetype": "text/x-python",
   "name": "python",
   "nbconvert_exporter": "python",
   "pygments_lexer": "ipython3",
   "version": "3.10.12"
  },
  "orig_nbformat": 4
 },
 "nbformat": 4,
 "nbformat_minor": 2
}
