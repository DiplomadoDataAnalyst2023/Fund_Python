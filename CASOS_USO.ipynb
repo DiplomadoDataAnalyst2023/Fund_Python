{
  "nbformat": 4,
  "nbformat_minor": 0,
  "metadata": {
    "colab": {
      "provenance": []
    },
    "kernelspec": {
      "name": "python3",
      "display_name": "Python 3"
    },
    "language_info": {
      "name": "python"
    }
  },
  "cells": [
    {
      "cell_type": "markdown",
      "source": [
        "# __Casos de uso__\n",
        "## Grupo X <font color='red'>(Indicamos el número del grupo).</font>\n",
        "## Módulo: <font color='red'>(Indicamos el nombre del módulo).</font>\n",
        "\n",
        "###  <font color='red'>__Reglas de los casos de uso:__\n",
        "* Regla 6: Debe existir un caso de uso por cada miembro del grupo\n",
        "* Regla 7: Los casos de uso deben estar vinculados a la actividad profesional del alumno (pasada, presente o futura)\n",
        "* Regla 8: Los casos de uso deben estar bien documentados en términos de su contexto, problemática, etc.\n",
        "* Regla 9:  La solución debe realizarse, al menos, con pseudo-código.\n",
        "</font>\n",
        "\n",
        "<font color='red'>__IMPORTANTE__: Los mejores casos de uso de cada sección, serán grabados en un video podcast como forma de difusión del programa de Becas Capital Humano de CORFO.</fomt>"
      ],
      "metadata": {
        "id": "if-EnkrnFUvI"
      }
    },
    {
      "cell_type": "markdown",
      "metadata": {
        "id": "quOGCQUdUcit"
      },
      "source": [
        "<font color='red'>__ATENCIÓN:__:<br>\n",
        "Indicamos los caso de uso con el nombre del alumno.</font>\n",
        "\n",
        "#<font color='blue'>**Caso de uso: Juan Pérez**</font>\n",
        "##***Título: Lectura de logger de potencia para obtener potencia máxima***\n",
        "\n",
        "El terminal portuario San Antonio Terminal Internacional tiene 8 gruas Ship-to-Shore (STS) (ver Figura 1), donde es de interés conocer la potencia máxima de consumo y regeneración en un lapso de tiempo determinado.\n"
      ]
    },
    {
      "cell_type": "markdown",
      "metadata": {
        "id": "YTj6MBHicSAU"
      },
      "source": [
        "<img src=\"https://www.stiport.com/quienes_somos/noticias/archivos/335a.jpg\" width=\"600\" align=\"left\" title=\"STS\"/>"
      ]
    },
    {
      "cell_type": "markdown",
      "metadata": {
        "id": "Dr7j-OBHcTDS"
      },
      "source": [
        "Estas grúas son eléctricas y están compuestas de 3 accionamientos de alta potencia:\n",
        "\n",
        "*   **Accionamiento de Hoist:** encargado de subir y bajar la carga\n",
        "*   **Accionamiento de Trolley/Boom:** encargado de mover la carga hacia el buque/muelle y levantar/bajar la pluma\n",
        "*   **Accionamiento de Gantry:** encargado de desplazar la grua lateralmente sobre rieles\n",
        "\n",
        "Los accionamientos de Hoist y Trolley pueden ser simultaneos y son los que más consumen energía. Resulta de bastante interés y utilidad **conocer** cuanto es la **potencia máxima de consumo**, como también la **potencia máxima regeneración** de estos equipos, lo cual depende directamente de la carga que se esté transportando e indirectamente del desgaste y estado de sus componentes.\n",
        "\n",
        "A traves de la adquisición de datos de los inversores de línea (ISU), es posible obtener mediciones de potencia del sistema cada 100 ms y generar un archivo txt, el cual contiene el tiempo de toma de muestra y el valor de potencia en kW (separados por tab).\n",
        "\n",
        "\n"
      ]
    },
    {
      "cell_type": "markdown",
      "metadata": {
        "id": "4ULrUsLHmK4j"
      },
      "source": [
        "<img src=\"https://webimages.imagebank.abb.com/public/default/product/9AAC185147/preview\" width=\"300\" align=\"left\" title=\"INVERTER\"/>\n",
        "\n",
        "<img src=\"https://www07.abb.com/images/librariesprovider87/Software-tools/drivewindow.png?sfvrsn=1\" width=\"338\" align=\"left\" title=\"DRIVE WINDOW\"/>\n",
        "\n",
        "<img src=\"https://drive.google.com/uc?id=1rhbyuHo59a3GuH4QBYN976pev5N8obO-\" width=\"330\" align=\"left\" title=\"TXT\"/>\n",
        "\n",
        "\n"
      ]
    },
    {
      "cell_type": "markdown",
      "metadata": {
        "id": "9AklkEf6mH_7"
      },
      "source": [
        "Para obtener el dato aproximado de potencia máxima de consumo y potencia máxima de regeneración, se realizó la toma de muestras de potencia durante todo un día de operacion (las grúas transportan entre 500-600 contenedores diarios) para luego:\n",
        "\n",
        "\n",
        "1.   Leer el archivo con los datos\n",
        "2.   Obtener el mayor valor, correspondiente a la máxima potencia consumida\n",
        "3.   Obtener el menor valor, correspondiente a la máxima potencia regenerada\n"
      ]
    },
    {
      "cell_type": "markdown",
      "metadata": {
        "id": "FqhIszGAholK"
      },
      "source": [
        "<font color='red'>__ATENCIÓN__: No es necesario incluir código, pero es bien valorado el hacerlo.</font>\n",
        "###<font color = 'blue'> Ejemplo: </font>\n",
        "## Se genero un archivo con muestras de potencia cada 100 ms durante 2 ciclos de operacion de descarga (2 contenedores)"
      ]
    },
    {
      "cell_type": "code",
      "metadata": {
        "id": "71TD0lQhhQbz",
        "colab": {
          "base_uri": "https://localhost:8080/"
        },
        "outputId": "2959e7a8-7f7e-485c-b29c-f646060bb520"
      },
      "source": [
        "#Se monta el drive en colab\n",
        "from google.colab import drive\n",
        "drive.mount('/content/drive')"
      ],
      "execution_count": null,
      "outputs": [
        {
          "output_type": "stream",
          "name": "stdout",
          "text": [
            "Mounted at /content/drive\n"
          ]
        }
      ]
    },
    {
      "cell_type": "code",
      "metadata": {
        "id": "8YUy7iua7S3R"
      },
      "source": [
        "import os\n",
        "os.chdir('/content/drive/MyDrive/DIPLOMADO DATASCIENCE/01_Fundamentos_de_Python/CASOS DE USO')"
      ],
      "execution_count": null,
      "outputs": []
    },
    {
      "cell_type": "code",
      "metadata": {
        "id": "u7G8EzaKh4da",
        "colab": {
          "base_uri": "https://localhost:8080/"
        },
        "outputId": "46290ed7-2a7c-4075-c63d-739dc63ef79b"
      },
      "source": [
        "#Se lee el archivo y se obtienen las máximas y mínimas lecturas\n",
        "import csv\n",
        "ruta = 'sts_power.txt'\n",
        "power_list = []\n",
        "with open(ruta, 'r') as file:\n",
        "    reader = csv.reader(file, delimiter='\\t')\n",
        "    print(f'Se imprime una muestra de 10 elementos del archivo\\n')\n",
        "    for inx, row in enumerate(reader):\n",
        "        if inx == 0:\n",
        "            print(row)\n",
        "        elif inx < 11:\n",
        "            print(row)\n",
        "            power_list.append(float(row[1]))\n",
        "        else:\n",
        "            power_list.append(float(row[1]))\n",
        "print()\n",
        "print('='*100)\n",
        "print(f'La máxima potencia consumida es de {(max(power_list))/1000:.3f} MegaWatts')\n",
        "print(f'La máxima potencia regenerada es de {(-min(power_list))/1000:.3f} MegaWatts')"
      ],
      "execution_count": null,
      "outputs": [
        {
          "output_type": "stream",
          "name": "stdout",
          "text": [
            "Se imprime una muestra de 10 elementos del archivo\n",
            "\n",
            "['Time (s)', 'Power (kW)']\n",
            "['549.8375', '1350.0049']\n",
            "['549.93997', '1504.7224']\n",
            "['550.03872', '1567.7681']\n",
            "['550.19238', '1682.9119']\n",
            "['550.23929', '1743.4373']\n",
            "['550.33914', '1880.5034']\n",
            "['550.44018', '1984.4966']\n",
            "['550.53987', '2005.8213']\n",
            "['550.63978', '1953.3188']\n",
            "['550.73744', '1218.7766']\n",
            "\n",
            "====================================================================================================\n",
            "La máxima potencia consumida es de 2.275 MegaWatts\n",
            "La máxima potencia regenerada es de 1.354 MegaWatts\n"
          ]
        }
      ]
    },
    {
      "cell_type": "markdown",
      "metadata": {
        "id": "U7PBFp71ydJZ"
      },
      "source": [
        "#<font color='blue'>**Caso de uso: Juanita Pérez**</font>\n",
        "##***Título: Identificación Eventos de Recarga en Humedales Altoandinos***\n",
        "\n",
        "Los humedales altoandinos (véase Figura 1) son ecosistemas compuestos por cuerpos de aguas superficiales (lagunas salinas), vegetación azonal y superficies evaporíticas (salares).\n",
        "\n",
        "Se trata de ambientes cuya oferta hídrica proviene, principalmente, de la descarga desde vertientes (afloramientos de aguas subterráneas almacenadas en los sistemas acuíferos) que, a su vez, se originan por las precipitaciones del invierno altiplánico (diciembre a marzo).\n",
        "\n",
        "La acción antrópica (pozos de extracción) y los efectos del cambio climático en el Altiplano (disminución del monto anual de precipitaciones) impactarían fuertmente en el estado hídrico de estos ecosistemas, por lo cual, resulta fundamental mantener un monitoreo orientado a evitar el degradamiento de los humedales altoandinos por estrés hídrico."
      ]
    },
    {
      "cell_type": "markdown",
      "metadata": {
        "id": "ZjytVuXEyf2o"
      },
      "source": [
        "<img src=\"https://www.leisa-al.org/web/images/stories/noticias/2021/febrero/humedal.jpg\" height=\"400\" width=\"600\">\n",
        "\n",
        "***Figura 1.*** Humedal altoandino en Perú"
      ]
    },
    {
      "cell_type": "markdown",
      "metadata": {
        "id": "eqPiVSxGyh6Q"
      },
      "source": [
        "Una forma de abordar el monitoreo del estado hídrico de los humedales altoandinos es a través de pozos de observación someros habilitados en el entorno próximo del ecosistema. Dentro de los pozos, se pueden instalar transductores de presión hidráulica (véase Figura 2) que permiten obtener un registro sobre la profundidad del nivel fréatico (nivel de aguas subterráneas) en los sistemas acuíferos que originan las vertientes generadoras de la oferta hídrica en los humedales.\n",
        "\n",
        "Los datos adquiridos por los transductores de presión tienen una frecuencia de muestreo específica, definida por el usuario del instrumento, y se pueden descargar remotamente como un archivo de extensión \"txt\", el cual contiene fecha de adquisición y profundidad del nivel freático en metros, ambas variables separadas por \";\"."
      ]
    },
    {
      "cell_type": "markdown",
      "metadata": {
        "id": "o_Lel1KqyjyS"
      },
      "source": [
        "<img src=\"https://d1py1ngsne97dt.cloudfront.net/ew0KICAiYnVja2V0IjogImVlLWZpbGVzIiwNCiAgImtleSI6ICJmaWxlcy8yMjI1Ny9wcm9kdWN0cy81NzYzNzAvMjIyNTdfMl8yMDIwMDcyMzAwMDE1MTkxMDI4MzguanBnIiwNCiAgImVkaXRzIjogew0KICAgICJyZXNpemUiOiB7DQogICAgICAiZml0IjogImNvbnRhaW4iLA0KICAgICAgImJhY2tncm91bmQiOiB7DQogICAgICAgICJyIjogMjU1LA0KICAgICAgICAiZyI6IDI1NSwNCiAgICAgICAgImIiOiAyNTUsDQogICAgICAgICJhbHBoYSI6IDENCiAgICAgIH0sDQogICAgICAid2lkdGgiOiAzNTAsDQogICAgICAiaGVpZ2h0IjogMzA2DQogICAgfQ0KICB9DQp9\">\n",
        "\n",
        "***Figura 2.*** Transductor de presión hidráulica"
      ]
    },
    {
      "cell_type": "markdown",
      "metadata": {
        "id": "Yv2H1dBoymE1"
      },
      "source": [
        "Recientemente, se ha instalado un transductor de presión hidráulica en un pozo de observación habilitado en las cercanías de un humedal altoandino en la región de Arica y Parinacota.\n",
        "\n",
        "Si bien se han almacenado pocos datos a la fecha, lo cual sólo permitiría evaluar el impacto de corto plazo de la acción antrópica y de los efectos del cambio climático en el humedal en estudio, se realizará un análisis preliminar de la información adquirida por el instrumento, durante el período diciembre-2020 a marzo-2021, para identificar eventos de recarga del sistema acuífero que genera las vertientes alimentadoras del ecosistema. Para ello, se seguirá la siguiente metodología de trabajo:\n",
        "\n",
        "1.   Leer el archivo con los datos de la profundidad del nivel freático\n",
        "2.   Determinar el nivel freático inicial en el sistema acuífero\n",
        "3.   Determinar los eventos de recarga (i.e. disminución de la profundidad del nivel freático en el pozo de observación)"
      ]
    },
    {
      "cell_type": "markdown",
      "metadata": {
        "id": "2qmKOsLsypNf"
      },
      "source": [
        "### <font color='blue'> 1. Leer el archivo con los datos de la profundidad del nivel freático"
      ]
    },
    {
      "cell_type": "code",
      "metadata": {
        "id": "Xz4oP7hBydjw"
      },
      "source": [
        "# Montaje del Drive de Google en el cual se trabajará\n",
        "from google.colab import drive\n",
        "drive.mount('/content/drive')"
      ],
      "execution_count": null,
      "outputs": []
    },
    {
      "cell_type": "code",
      "metadata": {
        "id": "yc4VJ6yIyrP4",
        "colab": {
          "base_uri": "https://localhost:8080/"
        },
        "outputId": "a6070f66-515e-400a-aa7e-e7d7235e921b"
      },
      "source": [
        "# Leer archivo\n",
        "myfile = open('gw_level.txt')\n",
        "\n",
        "# Separar líneas del archivo\n",
        "lines = myfile.readlines()\n",
        "\n",
        "# Crear lista vacía para almacenar valores del archivo\n",
        "gw_level = []\n",
        "\n",
        "# Recorrer archivo para exportar valores a lista creada (se excluye encabezado)\n",
        "for l in lines[1:] :\n",
        "  l = l.split(';')\n",
        "  gw_level.append((l[0], float(l[1].replace('\\n', ''))))\n",
        "\n",
        "# Cerrar archivo\n",
        "myfile.close()\n",
        "\n",
        "# Imprimir una muestra de 10 valores en la lista creada\n",
        "print(f'A continuación, se imprime, en forma de tupla, una muestra de 10 valores registrados por el transductor:\\n')\n",
        "for i in range(10) :\n",
        "  print(f'- {gw_level[i]}\\n')"
      ],
      "execution_count": null,
      "outputs": [
        {
          "output_type": "stream",
          "name": "stdout",
          "text": [
            "A continuación, se imprime, en forma de tupla, una muestra de 10 valores registrados por el transductor:\n",
            "\n",
            "- ('20-12-2020 6:00', 1.077787971)\n",
            "\n",
            "- ('20-12-2020 18:00', 1.082171254)\n",
            "\n",
            "- ('21-12-2020 6:00', 1.084780836)\n",
            "\n",
            "- ('21-12-2020 18:00', 1.084271152)\n",
            "\n",
            "- ('22-12-2020 6:00', 1.084923547)\n",
            "\n",
            "- ('22-12-2020 18:00', 1.076075433)\n",
            "\n",
            "- ('23-12-2020 6:00', 1.039734964)\n",
            "\n",
            "- ('23-12-2020 18:00', 0.988450561)\n",
            "\n",
            "- ('24-12-2020 6:00', 0.980397554)\n",
            "\n",
            "- ('24-12-2020 18:00', 0.972487258)\n",
            "\n"
          ]
        }
      ]
    },
    {
      "cell_type": "markdown",
      "metadata": {
        "id": "r4rWSCbnyu2G"
      },
      "source": [
        "### <font color='blue'> 2. Determinar el nivel freático inicial en el sistema acuífero"
      ]
    },
    {
      "cell_type": "code",
      "metadata": {
        "id": "YqIosmHtyvIY",
        "colab": {
          "base_uri": "https://localhost:8080/"
        },
        "outputId": "f92a13f2-1101-4327-ec26-1b9954a0af03"
      },
      "source": [
        "# Buscar el valor inicial de la profundidad del nivel freático del acuífero\n",
        "gw_level_initial = round(gw_level[0][1], 2)\n",
        "\n",
        "# Imprimir el valor inicial\n",
        "print('La profundid del nivel inicial en el sistema acuífero que genera las vertientes alimentadoras\\ndel humedal altoandino en estudio es igual a {} metros.'.format(gw_level_initial))"
      ],
      "execution_count": null,
      "outputs": [
        {
          "output_type": "stream",
          "name": "stdout",
          "text": [
            "La profundid del nivel inicial en el sistema acuífero que genera las vertientes alimentadoras\n",
            "del humedal altoandino en estudio es igual a 1.08 metros.\n"
          ]
        }
      ]
    },
    {
      "cell_type": "markdown",
      "metadata": {
        "id": "Urim0EB-y0FX"
      },
      "source": [
        "### <font color='blue'> 3. Determinar los eventos de recarga"
      ]
    },
    {
      "cell_type": "code",
      "metadata": {
        "id": "etUZ8Khvy0Vo",
        "colab": {
          "base_uri": "https://localhost:8080/"
        },
        "outputId": "311212b4-60fd-4331-b2d3-2d48bf4a381c"
      },
      "source": [
        "# Crear lista vacía para almacenar eventos de recarga del acuífero\n",
        "gw_level_max = []\n",
        "\n",
        "# Recorrer lista de niveles para identificar eventos de recarga, los cuales\n",
        "# se asocian, teóricamente, a la profundidad del nivel mínimo alcanzado en un\n",
        "# intervalo temporal de cuatro días (equivalente a 8 períodos de muestreo en\n",
        "# el instrumento)\n",
        "for i in range(8, len(gw_level) - 8, 8) :\n",
        "  if min([gw_level[i-1][1], gw_level[i][1], gw_level[i+1][1]]) == gw_level[i][1] :\n",
        "    gw_level_max.append((gw_level[i][0], round(gw_level[i][1], 3)))\n",
        "\n",
        "# Imprimir eventos de recarga identificados\n",
        "print(f'A continuación, se imprime, en forma de tupla, los potenciales eventos de recarga registrados por el transductor:\\n')\n",
        "for val in gw_level_max :\n",
        "  print(f'- {val}\\n')"
      ],
      "execution_count": null,
      "outputs": [
        {
          "output_type": "stream",
          "name": "stdout",
          "text": [
            "A continuación, se imprime, en forma de tupla, los potenciales eventos de recarga registrados por el transductor:\n",
            "\n",
            "- ('01-01-2021 6:00', 0.521)\n",
            "\n",
            "- ('09-01-2021 6:00', 0.723)\n",
            "\n",
            "- ('13-01-2021 6:00', 0.749)\n",
            "\n",
            "- ('17-01-2021 6:00', 0.699)\n",
            "\n",
            "- ('21-01-2021 6:00', 0.769)\n",
            "\n",
            "- ('06-02-2021 6:00', 0.525)\n",
            "\n",
            "- ('14-02-2021 6:00', 0.708)\n",
            "\n",
            "- ('18-02-2021 6:00', 0.764)\n",
            "\n"
          ]
        }
      ]
    },
    {
      "cell_type": "markdown",
      "metadata": {
        "id": "9WAsvHVyy4J9"
      },
      "source": [
        "El ejemplo de uso expuesto acá puede ser refinado en los siguientes módulos del diplomado, por ejemplo, graficando la serie temporal de la profundidad del nivel freático, calculando el nivel piezométrico respecto al nivel del mar y determinando la correlación de la profundidad del nivel freático con las variables extracción desde pozos de bombeo existentes en el entorno del humedal en estudio y precipitación líquida registrada por una estación meteorológica en una localidad rural cercana al humedal, entre otros resultados."
      ]
    },
    {
      "cell_type": "markdown",
      "metadata": {
        "id": "YRA6qYNXzVoS"
      },
      "source": [
        "#<font color='blue'>**Caso de uso: Max Munster**</font>\n",
        "##***Título: Sistema de gestión de filas de atención***\n",
        "Se considera el diseño de un sistema de gestión de filas para una sucursal de atención de una empresa de servicios masivos (por ejemplo una sucursal de telefonía móvil o un banco), con el objetivo de disminuir los tiempos de espera y congestión de las sucursales, aumento de resolutividad y en ultimo término aumentar la satisfacción de los clientes.\n",
        "\n",
        "El sistema debe considerar un triage que evalúe la criticidad del requerimiento y el valor del cliente.\n",
        "\n",
        "Por ejemplo, un cliente de alto valor que quiera dar de baja su servicio, es una atención crítica y por lo tanto debe ser atendido con prioridad sobre un cliente que necesita conocer el estado de su facturación. Además, debe ser derivado a  la posición que nos asegure la mejor resolutividad.\n",
        "\n",
        "El sistema debe ser capaz de identificar en la fila clientes que puedan ser atendidos remotamente (por ejemplo a través de una llamada telefonica desde un back office) y sacarlos de la fila de atención, sin la necesidad de ocupar una posición de atención física.\n"
      ]
    },
    {
      "cell_type": "markdown",
      "metadata": {
        "id": "aO__xSMP8v0N"
      },
      "source": [
        "<font color='red'>__ATENCIÓN__: En este caso no se utiliza código, pero sí una aproximación simplificada de pseudo código y Python.</font>\n",
        "###**Segunda etapa (próximos módulos)**\n",
        "Determinar la propensión de los clientes a concurrir a una sucursal de atención de postventa y generar modelos que permitan anticiparse y atender sus requerimientos en forma remota.\n",
        "\n",
        "\n",
        "####**Estructuras principales**\n",
        "```python\n",
        "- Menú atención: diccionario {opción_menú: motivo_atención}\n",
        "- Filas: lista [filas]\n",
        "- Fila de atención: lista [Id_fila, cliente, motivo_atención, hora_ingreso_fila]\n",
        "- Posición de atención: lista [nro_posición, habilidades_de_atención]\n",
        "\n",
        "# Nota: Estas estructuras pueden estar formadas por otras estructuras. Ejemplo, listas de listas*\n",
        "\n",
        "\n",
        "# funciones principales\n",
        "def triage(cliente, motivo) # Devuelve prioridad de cliente\n",
        "def ingreso_cliente_a_fila_atención(cliente, motivo, hola_ingreso, prioridad)\n",
        "def reordenar_fila(cliente, motivo, hola_ingreso, prioridad) # reordena fila\n",
        "def ocupar_posición(nro_posicion, cliente)\n",
        "def sacar_de_fila(cliente)\n",
        "def liberar_posición(nro_posicion)\n",
        "def reingresar(cliente, motivo, hora_ingreso, prioridad)\n",
        "\n",
        "```"
      ]
    },
    {
      "cell_type": "markdown",
      "metadata": {
        "id": "hflAMjIFzYeD"
      },
      "source": [
        "#### Sistema de gestion de filas"
      ]
    },
    {
      "cell_type": "markdown",
      "metadata": {
        "id": "HUesh7aazcWR"
      },
      "source": [
        "```python\n",
        "# Cliente se registra en módulo de atención de gestor de fila\n",
        "\n",
        "# Selección del motivo de atención en menú de atención\n",
        "\n",
        "# Priorización de la atención\n",
        "  triage(cliente, motivo)\n",
        "\n",
        "# Derivación a fila de atención por motivo de visita\n",
        "  ingreso_cliente_a_fila_atención(cliente, motivo, hola_ingreso, prioridad)\n",
        "  reordenar_fila(cliente, motivo, hola_ingreso, prioridad) # reordenar según criterios de atencion preferencial establecidos\n",
        "\n",
        "# posicion de atención llama cliente\n",
        "  ocupar_posición(nro_posicion, cliente)\n",
        "  sacar_de_fila(cliente)\n",
        "\n",
        "# Posición de atención termina atención\n",
        "  liberar_posición(nro_posicion)\n",
        "\n",
        "  if atención_canal_remoto:\n",
        "    if not solución:\n",
        "      reingresar_a_fila(cliente, motivo, hora_ingreso, prioridad)\n",
        "      reordenar_fila(cliente, motivo, hola_ingreso, prioridad\n",
        "\n",
        "```"
      ]
    },
    {
      "cell_type": "markdown",
      "metadata": {
        "id": "VJFDn1P6-gsb"
      },
      "source": [
        "<font color='red'>__ATENCIÓN__: En este caso se utiliza pseudo-código. Corresonde al módulo de Introducción a Python.</font>\n",
        "#<font color='blue'>**Caso de uso: John Doe**</font>\n",
        "##***Título: Consolidado de mediciónes eólicas***\n",
        "\n",
        "Para la identificación y evaluación de proyectos de generacío eólica, se necesita estimar el recurso de viento y los precios de energía por zona, los que se traduce en una señal de localización para inversión en parques que en etapas posteriores se evalua con un diseño y modelo economico.\n",
        "Para lo anterior es critico conocer bien el regimen de viento, contar idealmente con 3 años de mediciones, las cuales se evaluan periodicamente para decidir si conviene seguir midiendo, agregar otros dispositivos o descartar el sitio"
      ]
    },
    {
      "cell_type": "markdown",
      "metadata": {
        "id": "nGJmOe3G-tHV"
      },
      "source": [
        "Para medir se puede usar uno de los siguientes instrumentos:\n",
        "\n",
        "\n",
        "\n",
        "*   Torre: mas confiable, instalación se paga una vez, tiene entre 15 a 30 instrumentos a distintas alturas (anemometros, veletas, barometro etc). Tamaño tiipico entre 100 a 140m de altura\n",
        "*   SODAR: dispositivo portatil que mide con ondas mecanicas, emitiendo una onda dirigida a distintas alturas y analizando el reflejo. Suceptible a errores por perturbaciónes cercanas, pero de arriendo mensual mas economico que instalar torre. Tamaño tipico como contenedor transportable en camioneta\n",
        "*   LIDAR: similar al anterior pero con ondas electromagneticas, requiere mas energía para el funcionamiento, pero es mucho mas preciso\n",
        "\n",
        "Los fabricantes arman el dispositivo comprando partes de distintos proveedores, una misma torre puede tener mix veletas chinas y alemanas u otros, baterias y paneles solares de distintas caracteristicas y formas de anunciar su estado al sistema de almacenamiento de registros o Data Logger, que a su vez instruye al modem a conectarse una vez al dia o par de dias al satelite y transmitir la información del periodo"
      ]
    },
    {
      "cell_type": "markdown",
      "metadata": {
        "id": "LIsSJWFc-zmn"
      },
      "source": [
        "##<font color = 'blue'> Problema y propuesta de solución </font>\n",
        "\n",
        "Como resultado se tienen multiples .csv con distintos encabezados para las mismas magnitudes medidas, asociados a cada zona del pais. Los fabricantes compiten por imponer su estandar lo que dificulta enormemente tener una base consolidada\n",
        "\n",
        "Como ejemplo se muestra un fraglento de la primera linea de datos de un equipo con data logguer marca kintech y otro Campbell\n",
        "\n",
        "*   Campbell de torre en Antofagasta\n",
        "\n",
        "Date and Time,100m Wind Direction,100m Wind Speed,100m Wind Vert,Quality (Station Height 100m),120m Wind Direction,120m Wind Speed,120m Wind Vert,Quality (Station Height 120m),140m Wind Direction,140m Wind Speed,140m Wind Vert,Quality (Station Height 140m)...\n",
        "\n",
        "\n",
        "*   Kintech de SODAR en Constitución\n",
        "\n",
        "DateTime;Battery;WS1_120_315_RISO_P2546;WS1_120_315_RISO_P2546-STDev;WS1_120_315_RISO_P2546-Min;WS1_120_315_RISO_P2546-Max;WS1_120_315_RISO_P2546-TI30;WS2_100_315_RISO_P2546;WS2_100_315_RISO_P2546-STDev;WS2_100_315_RISO_P2546-Min;WS2_100_315_RISO_P2546-Max;WS2_100_315_RISO_P2546-TI30;WS3_80_315_RISO_P2546...\n",
        "\n",
        "Como se observa, a veces se incluye el nombre del fabricante, la altura, orientación, en distinto orden.\n",
        "\n",
        "Actualmente se unen las estadisticas que nos entregan de forma mensual una empresa independiente por clientes, y se unifica de forma pedestre con excel los resultados, al no contar con una base unificada debido a la no homogeneidad de los datos\n",
        "\n",
        "Se propone utilizar diccionarios para estandarizar los formatos y crear una base consolidada, que permita un analisis mas integral"
      ]
    },
    {
      "cell_type": "markdown",
      "metadata": {
        "id": "NUMQbqrS-4J0"
      },
      "source": [
        "##<font color = 'blue'> Seudocodigo </font>\n",
        "\n",
        "Suponer un archivo base_normalizado.csv, al que se agregará un nuevo set de mediciones del periodo que viene en archivo de estandar propio nuevas_mediciones.csv no normalizado\n",
        "\n",
        "Primero se normaliza el archivo\n",
        "```python\n",
        "abrir archivo nuevas_mediciones.csv\n",
        "ingresar primera linea a una lista\n",
        "identificar los cambios necesarios de acuerdo a un diccionario de equivalencias\n",
        "cambiar formato a marca de tiempo timestamp\n",
        "\n",
        "abrir archivo base_normalizado\n",
        "llegar a las lineas correspondientes al periodo en nuevas mediciónes\n",
        "agregar las nuevas mediciones (append)\n",
        "\n",
        "cerrar ambos archivos\n",
        "```\n",
        "\n",
        "otra funcion en python podria llamar a la anterior ordenando los archivos que se van a agregar desde una carpeta"
      ]
    },
    {
      "cell_type": "markdown",
      "source": [
        "<font color='red'>__ATENCIÓN__: En este caso se utiliza pseudo-código. Corresponde a un módulo de Redes Neuronales.</font>\n",
        "#<font color='blue'>**Caso de uso: Nancy Doe**</font>\n",
        "##***Título: Reconocimiento placa patente, aplicada a recintos habitacionales (Edificios, condominios de casas***\n",
        "\n",
        "\n",
        "Actualmente la mayoria de los edificios y recintos habitacionales cuenta con sistema de ingreso a sus intalaciones a traves de control remoto o lo opera una persona contratada para dicho rol.\n",
        "\n",
        "La idea de este caso de uso seria automatizar el control de acceso a los residentes o personas que requieren ingresar a las instalaciones.\n",
        "\n",
        "Para obtener las imagenes se requiere de un dispositivo que se encuentre en una posicion que pueda capturar la imagen de la placa patente y esta pueda ser analizada por una red neuronal, para ser identificada si corresponde a las registradas en nuestra base de datos y autorizar el ingreso."
      ],
      "metadata": {
        "id": "KTbRHzK_KvBn"
      }
    },
    {
      "cell_type": "markdown",
      "source": [
        "# Los pasos serian los siguientes: <br>\n",
        "a) Entrenar red con letras y números <br>\n",
        "b) Ubicar placa <br>\n",
        "c) Extraer números y letras <br>\n",
        "d) Reconocer letras o números dentro de la red<br>\n",
        "e) Validar si existe la placa dentro de una base de datos.\n",
        "\n",
        "**Nota:** Se requiere entrenar una red para que reconozca los números y letras (o se podria realizar en forma separada) en este ejemplo se realizará el pseudocodigo como que se tiene solo una base con toda la información."
      ],
      "metadata": {
        "id": "k23PuLgpKu-P"
      }
    },
    {
      "cell_type": "markdown",
      "source": [
        "### __Pseudo-código__\n",
        "```\n",
        "Importar_librerias\n",
        "1. Establecer_Hiperparamentros\n",
        "EPOCHS\n",
        "...\n",
        "....\n",
        "2. Cargar datos de entrenamiento\n",
        "def cargar_datos(num-letra):\n",
        "    cargar_dataset\n",
        "    conversión_datos\n",
        "    distribución_datos\n",
        "  return data\n",
        "```\n",
        "\n",
        "```\n",
        "3. Diseño de la red\n",
        "class Conv(nn.Module):\n",
        "    def __init__(self):\n",
        "        super(Conv, self).__init__()\n",
        "        # capa caracteristicas\n",
        "        self.features = nn.Sequential(\n",
        "                    capa_convolucional\n",
        "                    Normalizacion\n",
        "                    funcion_activacion\n",
        "                    capa_agrupacion\n",
        "         # Capa de clasificación\n",
        "        self.classifier = nn.Sequential(\n",
        "        )\n",
        "           \n",
        "    def forward(self, x):\n",
        "        vector_unidimensional       \n",
        "        return x\n",
        "```\n",
        "\n",
        "```\n",
        "4. Antes del entrenamiento\n",
        "\n",
        "funcion_perdida\n",
        "optimizacion_modelo\n",
        "tasa_aprendizaje\n",
        "```\n",
        "\n",
        "```\n",
        "5. Entrenamiento\n",
        "def train()\n",
        "    modelo\n",
        "    extraer_imagen\n",
        "    ..\n",
        "    ...\n",
        " return x\n",
        "```\n",
        "```\n",
        "6. Test\n",
        "def test()\n",
        "    modelo\n",
        "    \n",
        "    ..\n",
        "    ...\n",
        " return x\n",
        " ```\n",
        " ```\n",
        "7. ejecucion\n",
        "\n",
        "for epoch in range(1, EPOCHS + 1):\n",
        "    train()\n",
        "    test(test_loader,Conv)\n",
        "    test(train_loader,Conv)\n",
        "```\n"
      ],
      "metadata": {
        "id": "yf3rqqWGKu6m"
      }
    }
  ]
}